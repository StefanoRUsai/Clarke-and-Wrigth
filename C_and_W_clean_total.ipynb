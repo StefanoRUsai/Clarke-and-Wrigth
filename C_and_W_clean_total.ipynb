{
 "cells": [
  {
   "cell_type": "code",
   "execution_count": 24,
   "metadata": {},
   "outputs": [],
   "source": [
    "import pyximport; pyximport.install()\n",
    "from utils import *\n",
    "import time\n",
    "import pandas as pd"
   ]
  },
  {
   "cell_type": "code",
   "execution_count": 25,
   "metadata": {},
   "outputs": [],
   "source": [
    "from os import listdir\n",
    "instances=listdir('Instances/')\n",
    "instances=[x for x in [(x.split('.'))[0] for x in instances] if len(x) ==2]"
   ]
  },
  {
   "cell_type": "code",
   "execution_count": 33,
   "metadata": {},
   "outputs": [
    {
     "data": {
      "text/plain": [
       "['G2',\n",
       " 'K1',\n",
       " 'J4',\n",
       " 'G3',\n",
       " 'G1',\n",
       " 'K2',\n",
       " 'K3',\n",
       " 'F4',\n",
       " 'G4',\n",
       " 'J3',\n",
       " 'J2',\n",
       " 'G5',\n",
       " 'F3',\n",
       " 'K4',\n",
       " 'J1',\n",
       " 'F2',\n",
       " 'G6',\n",
       " 'A1',\n",
       " 'M2',\n",
       " 'M3',\n",
       " 'A2',\n",
       " 'L5',\n",
       " 'M1',\n",
       " 'L4',\n",
       " 'A3',\n",
       " 'M4',\n",
       " 'L1',\n",
       " 'A4',\n",
       " 'L3',\n",
       " 'L2',\n",
       " 'N6',\n",
       " 'C1',\n",
       " 'C3',\n",
       " 'N4',\n",
       " 'N5',\n",
       " 'C2',\n",
       " 'B2',\n",
       " 'N1',\n",
       " 'B3',\n",
       " 'B1',\n",
       " 'N2',\n",
       " 'N3',\n",
       " 'C4',\n",
       " 'E3',\n",
       " 'H4',\n",
       " 'H5',\n",
       " 'I1',\n",
       " 'E2',\n",
       " 'D4',\n",
       " 'I3',\n",
       " 'I2',\n",
       " 'H6',\n",
       " 'E1',\n",
       " 'D1',\n",
       " 'H2',\n",
       " 'H3',\n",
       " 'D2',\n",
       " 'I5',\n",
       " 'H1',\n",
       " 'I4',\n",
       " 'D3']"
      ]
     },
     "execution_count": 33,
     "metadata": {},
     "output_type": "execute_result"
    }
   ],
   "source": [
    "instances"
   ]
  },
  {
   "cell_type": "code",
   "execution_count": 27,
   "metadata": {},
   "outputs": [
    {
     "name": "stdout",
     "output_type": "stream",
     "text": [
      "CPU times: user 12.1 s, sys: 67.6 ms, total: 12.2 s\n",
      "Wall time: 12.3 s\n"
     ]
    }
   ],
   "source": [
    "%%time\n",
    "record ={}\n",
    "list_cost =[]\n",
    "\n",
    "start = time.time()\n",
    "for e in instances:\n",
    "    folder_instances = 'Instances/'\n",
    "    folder_rpa_solutions = 'RPA_Solutions/'\n",
    "    path = folder_instances+e+'.txt'\n",
    "    path_solutions =folder_rpa_solutions+'Detailed_Solution_'+e+'.txt'\n",
    "\n",
    "    start = time.time()\n",
    "    count, number_of_customers, one, number_of_vehicles,\\\n",
    "    vect_cord, vect_domanda, vect_carico, vec_b, vec_l, capacity = parser_instance(path)  \n",
    "\n",
    "    distance = distance_matrix(vect_cord)\n",
    "    saving=saving_matrix(distance)\n",
    "    \n",
    "    dict_Saving_Order=savingOrder(saving)\n",
    "    \n",
    "    dict_b, dict_l , dict_merge= route_Linehaul_Backhaul(dict_Saving_Order, vec_b, vec_l)\n",
    "    \n",
    "    \n",
    "    list_vehicle, set_visited = init_list_of_vehicle(dict_l, vect_domanda, distance, number_of_vehicles)\n",
    "    route_linehaul(dict_l, list_vehicle, vect_domanda, set_visited, distance,  capacity) #funzione void\n",
    "    route_backhaul(list_vehicle, dict_merge, dict_b, set_visited, vect_carico, distance, number_of_customers, capacity) #funzione void\n",
    "    tot_cost=sum([x.cost for x in list_vehicle])\n",
    "    record[e]=round(((tot_cost * 100) / extract_total_cost_BP(path_solutions))-100 , 2)\n",
    "    list_cost.append([e,tot_cost])\n",
    "\n",
    "duration = time.time()-start"
   ]
  },
  {
   "cell_type": "code",
   "execution_count": 30,
   "metadata": {},
   "outputs": [],
   "source": [
    "df_cost = pd.DataFrame(list_cost, columns = ['Instances', 'Best_Solution']) "
   ]
  },
  {
   "cell_type": "code",
   "execution_count": 32,
   "metadata": {},
   "outputs": [],
   "source": [
    "df_cost.to_csv('Risultati/costo_serialSolution.csv')"
   ]
  },
  {
   "cell_type": "code",
   "execution_count": 5,
   "metadata": {},
   "outputs": [
    {
     "data": {
      "text/plain": [
       "61.51081967213113"
      ]
     },
     "execution_count": 5,
     "metadata": {},
     "output_type": "execute_result"
    }
   ],
   "source": [
    "tot_errore=0\n",
    "for e in record.keys():\n",
    "    tot_errore += record[e]\n",
    "\n",
    "tot_errore/len(record)"
   ]
  },
  {
   "cell_type": "code",
   "execution_count": 6,
   "metadata": {},
   "outputs": [],
   "source": [
    "df_data = pd.DataFrame({'': [number_of_customers, capacity, number_of_vehicles,\n",
    "                            len(set_visited)-1, tot_cost, extract_total_cost_BP(path_solutions),\n",
    "                            round(((tot_cost * 100) / extract_total_cost_BP(path_solutions))-100 , 2), duration]},\n",
    "                       index=['Customers', 'Max Load', 'Routes Of the Solution', 'nodes visited',\n",
    "                              'Total Cost', 'Total Cost BP', 'Error', 'Time for Instance'\n",
    "                             ])"
   ]
  },
  {
   "cell_type": "code",
   "execution_count": 7,
   "metadata": {},
   "outputs": [
    {
     "data": {
      "text/html": [
       "<div>\n",
       "<style scoped>\n",
       "    .dataframe tbody tr th:only-of-type {\n",
       "        vertical-align: middle;\n",
       "    }\n",
       "\n",
       "    .dataframe tbody tr th {\n",
       "        vertical-align: top;\n",
       "    }\n",
       "\n",
       "    .dataframe thead th {\n",
       "        text-align: right;\n",
       "    }\n",
       "</style>\n",
       "<table border=\"1\" class=\"dataframe\">\n",
       "  <thead>\n",
       "    <tr style=\"text-align: right;\">\n",
       "      <th></th>\n",
       "      <th></th>\n",
       "    </tr>\n",
       "  </thead>\n",
       "  <tbody>\n",
       "    <tr>\n",
       "      <td>Customers</td>\n",
       "      <td>38.000000</td>\n",
       "    </tr>\n",
       "    <tr>\n",
       "      <td>Max Load</td>\n",
       "      <td>2750.000000</td>\n",
       "    </tr>\n",
       "    <tr>\n",
       "      <td>Routes Of the Solution</td>\n",
       "      <td>7.000000</td>\n",
       "    </tr>\n",
       "    <tr>\n",
       "      <td>nodes visited</td>\n",
       "      <td>38.000000</td>\n",
       "    </tr>\n",
       "    <tr>\n",
       "      <td>Total Cost</td>\n",
       "      <td>363507.496288</td>\n",
       "    </tr>\n",
       "    <tr>\n",
       "      <td>Total Cost BP</td>\n",
       "      <td>239479.000000</td>\n",
       "    </tr>\n",
       "    <tr>\n",
       "      <td>Error</td>\n",
       "      <td>51.790000</td>\n",
       "    </tr>\n",
       "    <tr>\n",
       "      <td>Time for Instance</td>\n",
       "      <td>0.009944</td>\n",
       "    </tr>\n",
       "  </tbody>\n",
       "</table>\n",
       "</div>"
      ],
      "text/plain": [
       "                                     \n",
       "Customers                   38.000000\n",
       "Max Load                  2750.000000\n",
       "Routes Of the Solution       7.000000\n",
       "nodes visited               38.000000\n",
       "Total Cost              363507.496288\n",
       "Total Cost BP           239479.000000\n",
       "Error                       51.790000\n",
       "Time for Instance            0.009944"
      ]
     },
     "execution_count": 7,
     "metadata": {},
     "output_type": "execute_result"
    }
   ],
   "source": [
    "df_data"
   ]
  },
  {
   "cell_type": "code",
   "execution_count": 8,
   "metadata": {},
   "outputs": [],
   "source": [
    "#support\n",
    "count = 0\n",
    "best_route = []\n",
    "flag = False\n",
    "\n",
    "with open(path_solutions) as file:\n",
    "    for line in file:\n",
    "        if \"ROUTE\" in line:\n",
    "            flag = True\n",
    "        if flag:\n",
    "            count+=1\n",
    "        if count == 7:\n",
    "            best_route.append([int(x) for x in line.split()])\n",
    "            flag=False\n",
    "            count=0\n"
   ]
  },
  {
   "cell_type": "code",
   "execution_count": 9,
   "metadata": {},
   "outputs": [
    {
     "data": {
      "text/plain": [
       "[[0, 33, 25, 38, 35, 19, 0],\n",
       " [0, 30, 14, 21, 37, 15, 0],\n",
       " [0, 29, 34, 18, 7, 0],\n",
       " [0, 10, 28, 16, 9, 11, 2, 0],\n",
       " [0, 12, 27, 17, 1, 6, 3, 0],\n",
       " [0, 31, 23, 13, 24, 8, 5, 4, 0],\n",
       " [0, 20, 26, 32, 22, 36, 0]]"
      ]
     },
     "execution_count": 9,
     "metadata": {},
     "output_type": "execute_result"
    }
   ],
   "source": [
    "best_route"
   ]
  },
  {
   "cell_type": "code",
   "execution_count": 10,
   "metadata": {},
   "outputs": [
    {
     "data": {
      "text/plain": [
       "[[0, 13, 24, 36, 22, 20, 1, 6, 3, 8, 5, 0],\n",
       " [0, 17, 27, 12, 37, 14, 33, 2, 7, 4, 0],\n",
       " [0, 26, 32, 18, 38, 28, 0],\n",
       " [0, 23, 31, 25, 10, 0],\n",
       " [0, 19, 35, 16, 30, 0],\n",
       " [0, 9, 11, 21, 15, 0],\n",
       " [0, 29, 34, 0]]"
      ]
     },
     "execution_count": 10,
     "metadata": {},
     "output_type": "execute_result"
    }
   ],
   "source": [
    "my_route=[x.route for x in list_vehicle]\n",
    "my_route"
   ]
  },
  {
   "cell_type": "code",
   "execution_count": 11,
   "metadata": {},
   "outputs": [],
   "source": [
    "best_cost=0\n",
    "for element in best_route:\n",
    "    for i,v in enumerate(element):\n",
    "        if i > 0:\n",
    "            best_cost+=distance[element[i-1]][element[i]]"
   ]
  },
  {
   "cell_type": "code",
   "execution_count": 12,
   "metadata": {},
   "outputs": [],
   "source": [
    "my_cost=0\n",
    "for element in my_route:\n",
    "    for i,v in enumerate(element):\n",
    "        if i > 0:\n",
    "            my_cost+=distance[element[i-1]][element[i]]"
   ]
  },
  {
   "cell_type": "code",
   "execution_count": 13,
   "metadata": {},
   "outputs": [
    {
     "data": {
      "text/plain": [
       "239478.6325468138"
      ]
     },
     "execution_count": 13,
     "metadata": {},
     "output_type": "execute_result"
    }
   ],
   "source": [
    "best_cost"
   ]
  },
  {
   "cell_type": "code",
   "execution_count": 14,
   "metadata": {},
   "outputs": [
    {
     "data": {
      "text/plain": [
       "363507.4962878069"
      ]
     },
     "execution_count": 14,
     "metadata": {},
     "output_type": "execute_result"
    }
   ],
   "source": [
    "my_cost"
   ]
  },
  {
   "cell_type": "code",
   "execution_count": 15,
   "metadata": {},
   "outputs": [
    {
     "data": {
      "text/plain": [
       "51.79"
      ]
     },
     "execution_count": 15,
     "metadata": {},
     "output_type": "execute_result"
    }
   ],
   "source": [
    "round((my_cost * 100) / best_cost -100 , 2)"
   ]
  },
  {
   "cell_type": "code",
   "execution_count": 17,
   "metadata": {},
   "outputs": [],
   "source": [
    "list_record=[]\n",
    "for e in record.keys():\n",
    "    list_record.append([e,record[e]])"
   ]
  },
  {
   "cell_type": "code",
   "execution_count": 18,
   "metadata": {},
   "outputs": [],
   "source": [
    "df = pd.DataFrame(list_record, columns = ['Instances', 'Error']) "
   ]
  },
  {
   "cell_type": "code",
   "execution_count": 19,
   "metadata": {},
   "outputs": [],
   "source": [
    "df2 = pd.DataFrame([['Total Average', tot_errore/len(record)]], columns = ['Instances', 'Error']) "
   ]
  },
  {
   "cell_type": "code",
   "execution_count": 20,
   "metadata": {},
   "outputs": [
    {
     "data": {
      "text/html": [
       "<div>\n",
       "<style scoped>\n",
       "    .dataframe tbody tr th:only-of-type {\n",
       "        vertical-align: middle;\n",
       "    }\n",
       "\n",
       "    .dataframe tbody tr th {\n",
       "        vertical-align: top;\n",
       "    }\n",
       "\n",
       "    .dataframe thead th {\n",
       "        text-align: right;\n",
       "    }\n",
       "</style>\n",
       "<table border=\"1\" class=\"dataframe\">\n",
       "  <thead>\n",
       "    <tr style=\"text-align: right;\">\n",
       "      <th></th>\n",
       "      <th>Instances</th>\n",
       "      <th>Error</th>\n",
       "    </tr>\n",
       "  </thead>\n",
       "  <tbody>\n",
       "    <tr>\n",
       "      <td>0</td>\n",
       "      <td>G2</td>\n",
       "      <td>60.33000</td>\n",
       "    </tr>\n",
       "    <tr>\n",
       "      <td>1</td>\n",
       "      <td>K1</td>\n",
       "      <td>61.98000</td>\n",
       "    </tr>\n",
       "    <tr>\n",
       "      <td>2</td>\n",
       "      <td>J4</td>\n",
       "      <td>62.88000</td>\n",
       "    </tr>\n",
       "    <tr>\n",
       "      <td>3</td>\n",
       "      <td>G3</td>\n",
       "      <td>67.50000</td>\n",
       "    </tr>\n",
       "    <tr>\n",
       "      <td>4</td>\n",
       "      <td>G1</td>\n",
       "      <td>73.21000</td>\n",
       "    </tr>\n",
       "    <tr>\n",
       "      <td>...</td>\n",
       "      <td>...</td>\n",
       "      <td>...</td>\n",
       "    </tr>\n",
       "    <tr>\n",
       "      <td>57</td>\n",
       "      <td>I5</td>\n",
       "      <td>72.91000</td>\n",
       "    </tr>\n",
       "    <tr>\n",
       "      <td>58</td>\n",
       "      <td>H1</td>\n",
       "      <td>48.75000</td>\n",
       "    </tr>\n",
       "    <tr>\n",
       "      <td>59</td>\n",
       "      <td>I4</td>\n",
       "      <td>68.47000</td>\n",
       "    </tr>\n",
       "    <tr>\n",
       "      <td>60</td>\n",
       "      <td>D3</td>\n",
       "      <td>51.79000</td>\n",
       "    </tr>\n",
       "    <tr>\n",
       "      <td>0</td>\n",
       "      <td>Total Average</td>\n",
       "      <td>61.51082</td>\n",
       "    </tr>\n",
       "  </tbody>\n",
       "</table>\n",
       "<p>62 rows × 2 columns</p>\n",
       "</div>"
      ],
      "text/plain": [
       "        Instances     Error\n",
       "0              G2  60.33000\n",
       "1              K1  61.98000\n",
       "2              J4  62.88000\n",
       "3              G3  67.50000\n",
       "4              G1  73.21000\n",
       "..            ...       ...\n",
       "57             I5  72.91000\n",
       "58             H1  48.75000\n",
       "59             I4  68.47000\n",
       "60             D3  51.79000\n",
       "0   Total Average  61.51082\n",
       "\n",
       "[62 rows x 2 columns]"
      ]
     },
     "execution_count": 20,
     "metadata": {},
     "output_type": "execute_result"
    }
   ],
   "source": [
    "df.append(df2)"
   ]
  },
  {
   "cell_type": "code",
   "execution_count": 21,
   "metadata": {},
   "outputs": [],
   "source": [
    "df.to_csv('Risultati/seriale_completo.csv')"
   ]
  }
 ],
 "metadata": {
  "kernelspec": {
   "display_name": "Python 3",
   "language": "python",
   "name": "python3"
  },
  "language_info": {
   "codemirror_mode": {
    "name": "ipython",
    "version": 3
   },
   "file_extension": ".py",
   "mimetype": "text/x-python",
   "name": "python",
   "nbconvert_exporter": "python",
   "pygments_lexer": "ipython3",
   "version": "3.7.4"
  }
 },
 "nbformat": 4,
 "nbformat_minor": 4
}
