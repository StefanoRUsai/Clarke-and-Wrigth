{
 "cells": [
  {
   "cell_type": "code",
   "execution_count": 1,
   "metadata": {},
   "outputs": [],
   "source": [
    "import pyximport; pyximport.install()\n",
    "from utils import *\n",
    "import time\n",
    "import pandas as pd"
   ]
  },
  {
   "cell_type": "code",
   "execution_count": 2,
   "metadata": {},
   "outputs": [
    {
     "name": "stdin",
     "output_type": "stream",
     "text": [
      " A1\n"
     ]
    }
   ],
   "source": [
    "n_instance = input()"
   ]
  },
  {
   "cell_type": "code",
   "execution_count": 3,
   "metadata": {},
   "outputs": [],
   "source": [
    "folder_instances = 'Instances/'\n",
    "folder_rpa_solutions = 'RPA_Solutions/'\n",
    "path = folder_instances+n_instance+'.txt'\n",
    "path_solutions =folder_rpa_solutions+'Detailed_Solution_'+n_instance+'.txt'"
   ]
  },
  {
   "cell_type": "code",
   "execution_count": 4,
   "metadata": {},
   "outputs": [
    {
     "name": "stdout",
     "output_type": "stream",
     "text": [
      "CPU times: user 4.57 ms, sys: 1.1 ms, total: 5.66 ms\n",
      "Wall time: 5.34 ms\n"
     ]
    }
   ],
   "source": [
    "%%time\n",
    "start = time.time()\n",
    "count, number_of_customers, one, number_of_vehicles,\\\n",
    "vect_cord, vect_domanda, vect_carico, vec_b, vec_l, capacity = parser_instance(path)  \n",
    "\n",
    "distance = distance_matrix(vect_cord)\n",
    "saving=saving_matrix(distance)\n",
    "dict_Saving_Order=savingOrder(saving)\n",
    "dict_b, dict_l , dict_merge= route_Linehaul_Backhaul(dict_Saving_Order, vec_b, vec_l)\n",
    "list_vehicle, set_visited = init_list_of_vehicle(dict_l, vect_domanda, distance, number_of_vehicles)\n",
    "route_linehaul(dict_l, list_vehicle, vect_domanda, set_visited, distance,  capacity) #funzione void\n",
    "route_backhaul(list_vehicle, dict_merge, dict_b, set_visited, vect_carico, distance, number_of_customers, capacity) #funzione void\n",
    "tot_cost=sum([x.cost for x in list_vehicle])\n",
    "duration = time.time()-start"
   ]
  },
  {
   "cell_type": "code",
   "execution_count": 5,
   "metadata": {},
   "outputs": [],
   "source": [
    "df_data = pd.DataFrame({'': [number_of_customers, capacity, number_of_vehicles,\n",
    "                            len(set_visited)-1, tot_cost, extract_total_cost_BP(path_solutions),\n",
    "                            round(((tot_cost * 100) / extract_total_cost_BP(path_solutions))-100 , 2), duration]},\n",
    "                       index=['Customers', 'Max Load', 'Routes Of the Solution', 'nodes visited',\n",
    "                              'Total Cost', 'Total Cost BP', 'Error', 'Time for Instance'\n",
    "                             ])"
   ]
  },
  {
   "cell_type": "code",
   "execution_count": 6,
   "metadata": {},
   "outputs": [
    {
     "data": {
      "text/html": [
       "<div>\n",
       "<style scoped>\n",
       "    .dataframe tbody tr th:only-of-type {\n",
       "        vertical-align: middle;\n",
       "    }\n",
       "\n",
       "    .dataframe tbody tr th {\n",
       "        vertical-align: top;\n",
       "    }\n",
       "\n",
       "    .dataframe thead th {\n",
       "        text-align: right;\n",
       "    }\n",
       "</style>\n",
       "<table border=\"1\" class=\"dataframe\">\n",
       "  <thead>\n",
       "    <tr style=\"text-align: right;\">\n",
       "      <th></th>\n",
       "      <th></th>\n",
       "    </tr>\n",
       "  </thead>\n",
       "  <tbody>\n",
       "    <tr>\n",
       "      <td>Customers</td>\n",
       "      <td>25.000000</td>\n",
       "    </tr>\n",
       "    <tr>\n",
       "      <td>Max Load</td>\n",
       "      <td>1550.000000</td>\n",
       "    </tr>\n",
       "    <tr>\n",
       "      <td>Routes Of the Solution</td>\n",
       "      <td>8.000000</td>\n",
       "    </tr>\n",
       "    <tr>\n",
       "      <td>nodes visited</td>\n",
       "      <td>25.000000</td>\n",
       "    </tr>\n",
       "    <tr>\n",
       "      <td>Total Cost</td>\n",
       "      <td>285271.679110</td>\n",
       "    </tr>\n",
       "    <tr>\n",
       "      <td>Total Cost BP</td>\n",
       "      <td>229886.000000</td>\n",
       "    </tr>\n",
       "    <tr>\n",
       "      <td>Error</td>\n",
       "      <td>24.090000</td>\n",
       "    </tr>\n",
       "    <tr>\n",
       "      <td>Time for Instance</td>\n",
       "      <td>0.005327</td>\n",
       "    </tr>\n",
       "  </tbody>\n",
       "</table>\n",
       "</div>"
      ],
      "text/plain": [
       "                                     \n",
       "Customers                   25.000000\n",
       "Max Load                  1550.000000\n",
       "Routes Of the Solution       8.000000\n",
       "nodes visited               25.000000\n",
       "Total Cost              285271.679110\n",
       "Total Cost BP           229886.000000\n",
       "Error                       24.090000\n",
       "Time for Instance            0.005327"
      ]
     },
     "execution_count": 6,
     "metadata": {},
     "output_type": "execute_result"
    }
   ],
   "source": [
    "df_data"
   ]
  },
  {
   "cell_type": "code",
   "execution_count": 7,
   "metadata": {},
   "outputs": [],
   "source": [
    "#support\n",
    "count = 0\n",
    "best_route = []\n",
    "flag = False\n",
    "\n",
    "with open(path_solutions) as file:\n",
    "    for line in file:\n",
    "        if \"ROUTE\" in line:\n",
    "            flag = True\n",
    "        if flag:\n",
    "            count+=1\n",
    "        if count == 7:\n",
    "            best_route.append([int(x) for x in line.split()])\n",
    "            flag=False\n",
    "            count=0\n"
   ]
  },
  {
   "cell_type": "code",
   "execution_count": 8,
   "metadata": {},
   "outputs": [
    {
     "data": {
      "text/plain": [
       "[[0, 16, 14, 4, 0],\n",
       " [0, 15, 8, 2, 0],\n",
       " [0, 11, 0],\n",
       " [0, 9, 20, 17, 5, 0],\n",
       " [0, 13, 25, 12, 10, 3, 0],\n",
       " [0, 18, 7, 21, 0],\n",
       " [0, 24, 22, 1, 0],\n",
       " [0, 23, 19, 6, 0]]"
      ]
     },
     "execution_count": 8,
     "metadata": {},
     "output_type": "execute_result"
    }
   ],
   "source": [
    "best_route"
   ]
  },
  {
   "cell_type": "code",
   "execution_count": 9,
   "metadata": {},
   "outputs": [
    {
     "data": {
      "text/plain": [
       "[[0, 10, 12, 16, 4, 3, 5, 0],\n",
       " [0, 19, 23, 18, 1, 2, 0],\n",
       " [0, 13, 25, 11, 0],\n",
       " [0, 20, 22, 0],\n",
       " [0, 14, 21, 0],\n",
       " [0, 9, 24, 17, 0],\n",
       " [0, 6, 7, 0],\n",
       " [0, 8, 15, 0]]"
      ]
     },
     "execution_count": 9,
     "metadata": {},
     "output_type": "execute_result"
    }
   ],
   "source": [
    "my_route=[x.route for x in list_vehicle]\n",
    "my_route"
   ]
  },
  {
   "cell_type": "code",
   "execution_count": 10,
   "metadata": {},
   "outputs": [],
   "source": [
    "best_cost=0\n",
    "for element in best_route:\n",
    "    for i,v in enumerate(element):\n",
    "        if i > 0:\n",
    "            best_cost+=distance[element[i-1]][element[i]]"
   ]
  },
  {
   "cell_type": "code",
   "execution_count": 11,
   "metadata": {},
   "outputs": [],
   "source": [
    "my_cost=0\n",
    "for element in my_route:\n",
    "    for i,v in enumerate(element):\n",
    "        if i > 0:\n",
    "            my_cost+=distance[element[i-1]][element[i]]"
   ]
  },
  {
   "cell_type": "code",
   "execution_count": 12,
   "metadata": {},
   "outputs": [
    {
     "data": {
      "text/plain": [
       "229885.64539163865"
      ]
     },
     "execution_count": 12,
     "metadata": {},
     "output_type": "execute_result"
    }
   ],
   "source": [
    "best_cost"
   ]
  },
  {
   "cell_type": "code",
   "execution_count": 13,
   "metadata": {},
   "outputs": [
    {
     "data": {
      "text/plain": [
       "285271.6791095759"
      ]
     },
     "execution_count": 13,
     "metadata": {},
     "output_type": "execute_result"
    }
   ],
   "source": [
    "my_cost"
   ]
  },
  {
   "cell_type": "code",
   "execution_count": 14,
   "metadata": {},
   "outputs": [
    {
     "data": {
      "text/plain": [
       "24.09"
      ]
     },
     "execution_count": 14,
     "metadata": {},
     "output_type": "execute_result"
    }
   ],
   "source": [
    "round((my_cost * 100) / best_cost -100 , 2)"
   ]
  }
 ],
 "metadata": {
  "kernelspec": {
   "display_name": "Python 3",
   "language": "python",
   "name": "python3"
  },
  "language_info": {
   "codemirror_mode": {
    "name": "ipython",
    "version": 3
   },
   "file_extension": ".py",
   "mimetype": "text/x-python",
   "name": "python",
   "nbconvert_exporter": "python",
   "pygments_lexer": "ipython3",
   "version": "3.7.4"
  }
 },
 "nbformat": 4,
 "nbformat_minor": 4
}
