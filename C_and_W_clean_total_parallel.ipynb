{
 "cells": [
  {
   "cell_type": "code",
   "execution_count": 1,
   "metadata": {},
   "outputs": [],
   "source": [
    "import pyximport; pyximport.install()\n",
    "from utils import *\n",
    "import time\n",
    "import pandas as pd"
   ]
  },
  {
   "cell_type": "code",
   "execution_count": 2,
   "metadata": {},
   "outputs": [],
   "source": [
    "from os import listdir\n",
    "instances=listdir('Instances/')\n",
    "instances=[x for x in [(x.split('.'))[0] for x in instances] if len(x) ==2]  "
   ]
  },
  {
   "cell_type": "code",
   "execution_count": 18,
   "metadata": {},
   "outputs": [
    {
     "name": "stdout",
     "output_type": "stream",
     "text": [
      "CPU times: user 2min 3s, sys: 374 ms, total: 2min 3s\n",
      "Wall time: 2min 3s\n"
     ]
    }
   ],
   "source": [
    "%%time\n",
    "record ={}\n",
    "start = time.time()\n",
    "list_cost = []   \n",
    "for e in instances:\n",
    "    folder_instances = 'Instances/'\n",
    "    folder_rpa_solutions = 'RPA_Solutions/'\n",
    "    path = folder_instances+e+'.txt'\n",
    "    path_solutions =folder_rpa_solutions+'Detailed_Solution_'+e+'.txt'\n",
    "\n",
    "    count, number_of_customers, one, number_of_vehicles,\\\n",
    "    vect_cord, vect_domanda, vect_carico, vec_b, vec_l, capacity = parser_instance(path)  \n",
    "\n",
    "    distance = distance_matrix(vect_cord)\n",
    "    saving=saving_matrix(distance)\n",
    "    \n",
    "    dict_Saving_Order=savingOrder(saving)\n",
    "    \n",
    "    dict_b, dict_l , dict_merge= route_Linehaul_Backhaul(dict_Saving_Order, vec_b, vec_l)\n",
    "    \n",
    "    list_vehicle, set_visited = init_list_of_vehicle_parallel(dict_l, vect_domanda, distance, number_of_vehicles)\n",
    "    route_linehaul_parallel(number_of_customers, dict_l, list_vehicle, vect_domanda, set_visited, distance, capacity, number_of_vehicles) #funzione void\n",
    "    route_backhaul_parallel(list_vehicle, dict_merge, dict_b, set_visited, vect_carico, distance, number_of_customers, capacity, number_of_vehicles) #funzione void\n",
    "    tot_cost=sum([x.cost for x in list_vehicle])\n",
    "    record[e]=round(((tot_cost * 100) / extract_total_cost_BP(path_solutions))-100 , 2)\n",
    "    list_cost.append([e,tot_cost])\n",
    "duration = time.time()-start"
   ]
  },
  {
   "cell_type": "code",
   "execution_count": 19,
   "metadata": {},
   "outputs": [],
   "source": [
    "df_cost = pd.DataFrame(list_cost, columns = ['Instances', 'Best_Solution']) "
   ]
  },
  {
   "cell_type": "code",
   "execution_count": 21,
   "metadata": {},
   "outputs": [],
   "source": [
    "df_cost.to_excel('Risultati/costo_parallelSolution.xls')"
   ]
  },
  {
   "cell_type": "code",
   "execution_count": 4,
   "metadata": {},
   "outputs": [
    {
     "data": {
      "text/plain": [
       "88.42000000000003"
      ]
     },
     "execution_count": 4,
     "metadata": {},
     "output_type": "execute_result"
    }
   ],
   "source": [
    "tot_errore=0\n",
    "for e in record.keys():\n",
    "    tot_errore += record[e]\n",
    "\n",
    "tot_errore/len(record)"
   ]
  },
  {
   "cell_type": "code",
   "execution_count": 5,
   "metadata": {},
   "outputs": [],
   "source": [
    "df_data = pd.DataFrame({'': [number_of_customers, capacity, number_of_vehicles,\n",
    "                            len(set_visited)-1, tot_cost, extract_total_cost_BP(path_solutions),\n",
    "                            round(((tot_cost * 100) / extract_total_cost_BP(path_solutions))-100 , 2), duration]},\n",
    "                       index=['Customers', 'Max Load', 'Routes Of the Solution', 'nodes visited',\n",
    "                              'Total Cost', 'Total Cost BP', 'Error', 'Time for Instance'\n",
    "                             ])"
   ]
  },
  {
   "cell_type": "code",
   "execution_count": 7,
   "metadata": {},
   "outputs": [
    {
     "data": {
      "text/html": [
       "<div>\n",
       "<style scoped>\n",
       "    .dataframe tbody tr th:only-of-type {\n",
       "        vertical-align: middle;\n",
       "    }\n",
       "\n",
       "    .dataframe tbody tr th {\n",
       "        vertical-align: top;\n",
       "    }\n",
       "\n",
       "    .dataframe thead th {\n",
       "        text-align: right;\n",
       "    }\n",
       "</style>\n",
       "<table border=\"1\" class=\"dataframe\">\n",
       "  <thead>\n",
       "    <tr style=\"text-align: right;\">\n",
       "      <th></th>\n",
       "      <th></th>\n",
       "    </tr>\n",
       "  </thead>\n",
       "  <tbody>\n",
       "    <tr>\n",
       "      <td>Customers</td>\n",
       "      <td>38.000000</td>\n",
       "    </tr>\n",
       "    <tr>\n",
       "      <td>Max Load</td>\n",
       "      <td>2750.000000</td>\n",
       "    </tr>\n",
       "    <tr>\n",
       "      <td>Routes Of the Solution</td>\n",
       "      <td>7.000000</td>\n",
       "    </tr>\n",
       "    <tr>\n",
       "      <td>nodes visited</td>\n",
       "      <td>38.000000</td>\n",
       "    </tr>\n",
       "    <tr>\n",
       "      <td>Total Cost</td>\n",
       "      <td>441394.047666</td>\n",
       "    </tr>\n",
       "    <tr>\n",
       "      <td>Total Cost BP</td>\n",
       "      <td>239479.000000</td>\n",
       "    </tr>\n",
       "    <tr>\n",
       "      <td>Error</td>\n",
       "      <td>84.310000</td>\n",
       "    </tr>\n",
       "    <tr>\n",
       "      <td>Time for Instance</td>\n",
       "      <td>0.048302</td>\n",
       "    </tr>\n",
       "  </tbody>\n",
       "</table>\n",
       "</div>"
      ],
      "text/plain": [
       "                                     \n",
       "Customers                   38.000000\n",
       "Max Load                  2750.000000\n",
       "Routes Of the Solution       7.000000\n",
       "nodes visited               38.000000\n",
       "Total Cost              441394.047666\n",
       "Total Cost BP           239479.000000\n",
       "Error                       84.310000\n",
       "Time for Instance            0.048302"
      ]
     },
     "execution_count": 7,
     "metadata": {},
     "output_type": "execute_result"
    }
   ],
   "source": [
    "df_data"
   ]
  },
  {
   "cell_type": "code",
   "execution_count": null,
   "metadata": {},
   "outputs": [],
   "source": [
    "#support\n",
    "count = 0\n",
    "best_route = []\n",
    "flag = False\n",
    "\n",
    "with open(path_solutions) as file:\n",
    "    for line in file:\n",
    "        if \"ROUTE\" in line:\n",
    "            flag = True\n",
    "        if flag:\n",
    "            count+=1\n",
    "        if count == 7:\n",
    "            best_route.append([int(x) for x in line.split()])\n",
    "            flag=False\n",
    "            count=0\n"
   ]
  },
  {
   "cell_type": "code",
   "execution_count": null,
   "metadata": {},
   "outputs": [],
   "source": [
    "best_route"
   ]
  },
  {
   "cell_type": "code",
   "execution_count": null,
   "metadata": {},
   "outputs": [],
   "source": [
    "my_route=[x.route for x in list_vehicle]\n",
    "my_route"
   ]
  },
  {
   "cell_type": "code",
   "execution_count": null,
   "metadata": {},
   "outputs": [],
   "source": [
    "best_cost=0\n",
    "for element in best_route:\n",
    "    for i,v in enumerate(element):\n",
    "        if i > 0:\n",
    "            best_cost+=distance[element[i-1]][element[i]]"
   ]
  },
  {
   "cell_type": "code",
   "execution_count": null,
   "metadata": {},
   "outputs": [],
   "source": [
    "my_cost=0\n",
    "for element in my_route:\n",
    "    for i,v in enumerate(element):\n",
    "        if i > 0:\n",
    "            my_cost+=distance[element[i-1]][element[i]]"
   ]
  },
  {
   "cell_type": "code",
   "execution_count": null,
   "metadata": {},
   "outputs": [],
   "source": [
    "best_cost"
   ]
  },
  {
   "cell_type": "code",
   "execution_count": null,
   "metadata": {},
   "outputs": [],
   "source": [
    "my_cost"
   ]
  },
  {
   "cell_type": "code",
   "execution_count": null,
   "metadata": {},
   "outputs": [],
   "source": [
    "round((my_cost * 100) / best_cost -100 , 2)"
   ]
  },
  {
   "cell_type": "code",
   "execution_count": null,
   "metadata": {},
   "outputs": [],
   "source": [
    "record"
   ]
  },
  {
   "cell_type": "code",
   "execution_count": 8,
   "metadata": {},
   "outputs": [],
   "source": [
    "list_record=[]\n",
    "for e in record.keys():\n",
    "    list_record.append([e,record[e]])"
   ]
  },
  {
   "cell_type": "code",
   "execution_count": 9,
   "metadata": {},
   "outputs": [],
   "source": [
    "df = pd.DataFrame(list_record, columns = ['Instances', 'Error']) "
   ]
  },
  {
   "cell_type": "code",
   "execution_count": 14,
   "metadata": {},
   "outputs": [],
   "source": [
    "df2 = pd.DataFrame([['Total Average', tot_errore/len(record)]], columns = ['Instances', 'Error']) "
   ]
  },
  {
   "cell_type": "code",
   "execution_count": 16,
   "metadata": {},
   "outputs": [
    {
     "data": {
      "text/html": [
       "<div>\n",
       "<style scoped>\n",
       "    .dataframe tbody tr th:only-of-type {\n",
       "        vertical-align: middle;\n",
       "    }\n",
       "\n",
       "    .dataframe tbody tr th {\n",
       "        vertical-align: top;\n",
       "    }\n",
       "\n",
       "    .dataframe thead th {\n",
       "        text-align: right;\n",
       "    }\n",
       "</style>\n",
       "<table border=\"1\" class=\"dataframe\">\n",
       "  <thead>\n",
       "    <tr style=\"text-align: right;\">\n",
       "      <th></th>\n",
       "      <th>Instances</th>\n",
       "      <th>Error</th>\n",
       "    </tr>\n",
       "  </thead>\n",
       "  <tbody>\n",
       "    <tr>\n",
       "      <td>0</td>\n",
       "      <td>G2</td>\n",
       "      <td>131.25</td>\n",
       "    </tr>\n",
       "    <tr>\n",
       "      <td>1</td>\n",
       "      <td>K1</td>\n",
       "      <td>94.74</td>\n",
       "    </tr>\n",
       "    <tr>\n",
       "      <td>2</td>\n",
       "      <td>J4</td>\n",
       "      <td>88.53</td>\n",
       "    </tr>\n",
       "    <tr>\n",
       "      <td>3</td>\n",
       "      <td>G3</td>\n",
       "      <td>133.62</td>\n",
       "    </tr>\n",
       "    <tr>\n",
       "      <td>4</td>\n",
       "      <td>G1</td>\n",
       "      <td>93.87</td>\n",
       "    </tr>\n",
       "    <tr>\n",
       "      <td>...</td>\n",
       "      <td>...</td>\n",
       "      <td>...</td>\n",
       "    </tr>\n",
       "    <tr>\n",
       "      <td>57</td>\n",
       "      <td>I5</td>\n",
       "      <td>63.96</td>\n",
       "    </tr>\n",
       "    <tr>\n",
       "      <td>58</td>\n",
       "      <td>H1</td>\n",
       "      <td>97.72</td>\n",
       "    </tr>\n",
       "    <tr>\n",
       "      <td>59</td>\n",
       "      <td>I4</td>\n",
       "      <td>64.42</td>\n",
       "    </tr>\n",
       "    <tr>\n",
       "      <td>60</td>\n",
       "      <td>D3</td>\n",
       "      <td>84.31</td>\n",
       "    </tr>\n",
       "    <tr>\n",
       "      <td>0</td>\n",
       "      <td>Total Average</td>\n",
       "      <td>88.42</td>\n",
       "    </tr>\n",
       "  </tbody>\n",
       "</table>\n",
       "<p>62 rows × 2 columns</p>\n",
       "</div>"
      ],
      "text/plain": [
       "        Instances   Error\n",
       "0              G2  131.25\n",
       "1              K1   94.74\n",
       "2              J4   88.53\n",
       "3              G3  133.62\n",
       "4              G1   93.87\n",
       "..            ...     ...\n",
       "57             I5   63.96\n",
       "58             H1   97.72\n",
       "59             I4   64.42\n",
       "60             D3   84.31\n",
       "0   Total Average   88.42\n",
       "\n",
       "[62 rows x 2 columns]"
      ]
     },
     "execution_count": 16,
     "metadata": {},
     "output_type": "execute_result"
    }
   ],
   "source": [
    "df.append(df2)"
   ]
  },
  {
   "cell_type": "code",
   "execution_count": 17,
   "metadata": {},
   "outputs": [],
   "source": [
    "df.to_csv('Risultati/parallelo_completo.csv')"
   ]
  }
 ],
 "metadata": {
  "kernelspec": {
   "display_name": "Python 3",
   "language": "python",
   "name": "python3"
  },
  "language_info": {
   "codemirror_mode": {
    "name": "ipython",
    "version": 3
   },
   "file_extension": ".py",
   "mimetype": "text/x-python",
   "name": "python",
   "nbconvert_exporter": "python",
   "pygments_lexer": "ipython3",
   "version": "3.7.4"
  }
 },
 "nbformat": 4,
 "nbformat_minor": 4
}
