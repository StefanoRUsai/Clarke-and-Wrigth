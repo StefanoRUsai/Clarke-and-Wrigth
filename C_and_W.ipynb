{
 "cells": [
  {
   "cell_type": "code",
   "execution_count": 1,
   "metadata": {},
   "outputs": [],
   "source": [
    "import pandas as pd\n",
    "import numpy as np\n",
    "import string\n",
    "from collections import Counter\n",
    "from utils import *\n",
    "from vehicle import Vehicle\n",
    "\n",
    "import networkx as nx\n",
    "from bokeh.io import show, output_file, output_notebook\n",
    "from bokeh.plotting import figure\n",
    "from bokeh.models.graphs import from_networkx\n"
   ]
  },
  {
   "cell_type": "markdown",
   "metadata": {},
   "source": [
    "## Estrazione dati con un piccolo parser dei dati"
   ]
  },
  {
   "cell_type": "code",
   "execution_count": 2,
   "metadata": {},
   "outputs": [],
   "source": [
    "path='Instances/A2.txt'"
   ]
  },
  {
   "cell_type": "code",
   "execution_count": 3,
   "metadata": {},
   "outputs": [],
   "source": [
    "#support\n",
    "count = 0\n",
    "#first 3 lines of the txt file\n",
    "number_of_customers=0\n",
    "one=0\n",
    "number_of_vehicles=0\n",
    "#vettori di informazione\n",
    "vect_cord=[] #lista/vettore di coppiadi coordinate\n",
    "vect_domanda=[] #linehaul\n",
    "vect_carico=[] #backhaul\n",
    "vec_b=[] #vettore delle istanze backhaul\n",
    "vec_l=[] #vettore delle istanze linehaul\n",
    "with open(path) as file:\n",
    "    for line in file:\n",
    "        #print(line)\n",
    "        count+=1\n",
    "        if count  == 1:\n",
    "            number_of_customers=int((line.split())[0])\n",
    "        if count  == 2:\n",
    "            one=int((line.split())[0])\n",
    "        if count == 3:\n",
    "            number_of_vehicles=int((line.split())[0])\n",
    "        if count > 3:\n",
    "            vect_cord.append((int((line.split())[0]),int((line.split())[1])))\n",
    "            vect_domanda.append((int((line.split())[2])))\n",
    "            vect_carico.append((int((line.split())[3]))) \n",
    "            if int((line.split())[3]) == 0:\n",
    "                vec_l.append(count-4) #il numero delle istanze linehaul\n",
    "            if int((line.split())[3]) > 0:\n",
    "                vec_b.append(count-4) # il numero delle istanze backhaul\n",
    "\n",
    "#capacità massima di ogni mezzo\n",
    "capacity=vect_carico[0]                     "
   ]
  },
  {
   "cell_type": "code",
   "execution_count": 4,
   "metadata": {},
   "outputs": [],
   "source": [
    "df_data = pd.DataFrame({'': [number_of_customers, number_of_vehicles, capacity]},\n",
    "                       index=['Number of customers', 'Number of Vehicles', 'Capacity'])"
   ]
  },
  {
   "cell_type": "code",
   "execution_count": 5,
   "metadata": {},
   "outputs": [],
   "source": [
    "df_instances = pd.DataFrame({'Cordinate X': [ x[0] for x in vect_cord],\n",
    "                             'Cordinate Y': [ x[1] for x in vect_cord], \n",
    "                             'Linehaul': vect_domanda, \n",
    "                             'Backhaul' : vect_carico,\n",
    "                            })"
   ]
  },
  {
   "cell_type": "code",
   "execution_count": 6,
   "metadata": {},
   "outputs": [
    {
     "data": {
      "text/html": [
       "<div>\n",
       "<style scoped>\n",
       "    .dataframe tbody tr th:only-of-type {\n",
       "        vertical-align: middle;\n",
       "    }\n",
       "\n",
       "    .dataframe tbody tr th {\n",
       "        vertical-align: top;\n",
       "    }\n",
       "\n",
       "    .dataframe thead th {\n",
       "        text-align: right;\n",
       "    }\n",
       "</style>\n",
       "<table border=\"1\" class=\"dataframe\">\n",
       "  <thead>\n",
       "    <tr style=\"text-align: right;\">\n",
       "      <th></th>\n",
       "      <th></th>\n",
       "    </tr>\n",
       "  </thead>\n",
       "  <tbody>\n",
       "    <tr>\n",
       "      <th>Number of customers</th>\n",
       "      <td>25</td>\n",
       "    </tr>\n",
       "    <tr>\n",
       "      <th>Number of Vehicles</th>\n",
       "      <td>5</td>\n",
       "    </tr>\n",
       "    <tr>\n",
       "      <th>Capacity</th>\n",
       "      <td>2550</td>\n",
       "    </tr>\n",
       "  </tbody>\n",
       "</table>\n",
       "</div>"
      ],
      "text/plain": [
       "                         \n",
       "Number of customers    25\n",
       "Number of Vehicles      5\n",
       "Capacity             2550"
      ]
     },
     "execution_count": 6,
     "metadata": {},
     "output_type": "execute_result"
    }
   ],
   "source": [
    "df_data"
   ]
  },
  {
   "cell_type": "markdown",
   "metadata": {},
   "source": [
    "all'indice 0 è riportato il magazzino. dove il campo Backhaul rappresenta la capacità massima"
   ]
  },
  {
   "cell_type": "code",
   "execution_count": 7,
   "metadata": {},
   "outputs": [
    {
     "data": {
      "text/html": [
       "<div>\n",
       "<style scoped>\n",
       "    .dataframe tbody tr th:only-of-type {\n",
       "        vertical-align: middle;\n",
       "    }\n",
       "\n",
       "    .dataframe tbody tr th {\n",
       "        vertical-align: top;\n",
       "    }\n",
       "\n",
       "    .dataframe thead th {\n",
       "        text-align: right;\n",
       "    }\n",
       "</style>\n",
       "<table border=\"1\" class=\"dataframe\">\n",
       "  <thead>\n",
       "    <tr style=\"text-align: right;\">\n",
       "      <th></th>\n",
       "      <th>Cordinate X</th>\n",
       "      <th>Cordinate Y</th>\n",
       "      <th>Linehaul</th>\n",
       "      <th>Backhaul</th>\n",
       "    </tr>\n",
       "  </thead>\n",
       "  <tbody>\n",
       "    <tr>\n",
       "      <th>0</th>\n",
       "      <td>12000</td>\n",
       "      <td>16000</td>\n",
       "      <td>0</td>\n",
       "      <td>2550</td>\n",
       "    </tr>\n",
       "    <tr>\n",
       "      <th>1</th>\n",
       "      <td>9795</td>\n",
       "      <td>21510</td>\n",
       "      <td>0</td>\n",
       "      <td>549</td>\n",
       "    </tr>\n",
       "    <tr>\n",
       "      <th>2</th>\n",
       "      <td>7758</td>\n",
       "      <td>10895</td>\n",
       "      <td>0</td>\n",
       "      <td>558</td>\n",
       "    </tr>\n",
       "    <tr>\n",
       "      <th>3</th>\n",
       "      <td>12927</td>\n",
       "      <td>2464</td>\n",
       "      <td>0</td>\n",
       "      <td>851</td>\n",
       "    </tr>\n",
       "    <tr>\n",
       "      <th>4</th>\n",
       "      <td>23286</td>\n",
       "      <td>5538</td>\n",
       "      <td>0</td>\n",
       "      <td>388</td>\n",
       "    </tr>\n",
       "    <tr>\n",
       "      <th>5</th>\n",
       "      <td>7416</td>\n",
       "      <td>15826</td>\n",
       "      <td>0</td>\n",
       "      <td>194</td>\n",
       "    </tr>\n",
       "    <tr>\n",
       "      <th>6</th>\n",
       "      <td>21524</td>\n",
       "      <td>24879</td>\n",
       "      <td>483</td>\n",
       "      <td>0</td>\n",
       "    </tr>\n",
       "    <tr>\n",
       "      <th>7</th>\n",
       "      <td>22337</td>\n",
       "      <td>17915</td>\n",
       "      <td>389</td>\n",
       "      <td>0</td>\n",
       "    </tr>\n",
       "    <tr>\n",
       "      <th>8</th>\n",
       "      <td>7642</td>\n",
       "      <td>9722</td>\n",
       "      <td>435</td>\n",
       "      <td>0</td>\n",
       "    </tr>\n",
       "    <tr>\n",
       "      <th>9</th>\n",
       "      <td>3707</td>\n",
       "      <td>20036</td>\n",
       "      <td>452</td>\n",
       "      <td>0</td>\n",
       "    </tr>\n",
       "    <tr>\n",
       "      <th>10</th>\n",
       "      <td>15492</td>\n",
       "      <td>2721</td>\n",
       "      <td>343</td>\n",
       "      <td>0</td>\n",
       "    </tr>\n",
       "    <tr>\n",
       "      <th>11</th>\n",
       "      <td>12430</td>\n",
       "      <td>10638</td>\n",
       "      <td>444</td>\n",
       "      <td>0</td>\n",
       "    </tr>\n",
       "    <tr>\n",
       "      <th>12</th>\n",
       "      <td>13595</td>\n",
       "      <td>1918</td>\n",
       "      <td>350</td>\n",
       "      <td>0</td>\n",
       "    </tr>\n",
       "    <tr>\n",
       "      <th>13</th>\n",
       "      <td>4290</td>\n",
       "      <td>2721</td>\n",
       "      <td>307</td>\n",
       "      <td>0</td>\n",
       "    </tr>\n",
       "    <tr>\n",
       "      <th>14</th>\n",
       "      <td>18684</td>\n",
       "      <td>5268</td>\n",
       "      <td>810</td>\n",
       "      <td>0</td>\n",
       "    </tr>\n",
       "    <tr>\n",
       "      <th>15</th>\n",
       "      <td>8686</td>\n",
       "      <td>9546</td>\n",
       "      <td>1002</td>\n",
       "      <td>0</td>\n",
       "    </tr>\n",
       "    <tr>\n",
       "      <th>16</th>\n",
       "      <td>23140</td>\n",
       "      <td>10989</td>\n",
       "      <td>476</td>\n",
       "      <td>0</td>\n",
       "    </tr>\n",
       "    <tr>\n",
       "      <th>17</th>\n",
       "      <td>5263</td>\n",
       "      <td>14289</td>\n",
       "      <td>674</td>\n",
       "      <td>0</td>\n",
       "    </tr>\n",
       "    <tr>\n",
       "      <th>18</th>\n",
       "      <td>19557</td>\n",
       "      <td>17564</td>\n",
       "      <td>691</td>\n",
       "      <td>0</td>\n",
       "    </tr>\n",
       "    <tr>\n",
       "      <th>19</th>\n",
       "      <td>23281</td>\n",
       "      <td>29684</td>\n",
       "      <td>675</td>\n",
       "      <td>0</td>\n",
       "    </tr>\n",
       "    <tr>\n",
       "      <th>20</th>\n",
       "      <td>374</td>\n",
       "      <td>22683</td>\n",
       "      <td>410</td>\n",
       "      <td>0</td>\n",
       "    </tr>\n",
       "    <tr>\n",
       "      <th>21</th>\n",
       "      <td>18804</td>\n",
       "      <td>9082</td>\n",
       "      <td>351</td>\n",
       "      <td>0</td>\n",
       "    </tr>\n",
       "    <tr>\n",
       "      <th>22</th>\n",
       "      <td>5444</td>\n",
       "      <td>25004</td>\n",
       "      <td>786</td>\n",
       "      <td>0</td>\n",
       "    </tr>\n",
       "    <tr>\n",
       "      <th>23</th>\n",
       "      <td>20390</td>\n",
       "      <td>25745</td>\n",
       "      <td>59</td>\n",
       "      <td>0</td>\n",
       "    </tr>\n",
       "    <tr>\n",
       "      <th>24</th>\n",
       "      <td>4310</td>\n",
       "      <td>21692</td>\n",
       "      <td>362</td>\n",
       "      <td>0</td>\n",
       "    </tr>\n",
       "    <tr>\n",
       "      <th>25</th>\n",
       "      <td>8526</td>\n",
       "      <td>2495</td>\n",
       "      <td>550</td>\n",
       "      <td>0</td>\n",
       "    </tr>\n",
       "  </tbody>\n",
       "</table>\n",
       "</div>"
      ],
      "text/plain": [
       "    Cordinate X  Cordinate Y  Linehaul  Backhaul\n",
       "0         12000        16000         0      2550\n",
       "1          9795        21510         0       549\n",
       "2          7758        10895         0       558\n",
       "3         12927         2464         0       851\n",
       "4         23286         5538         0       388\n",
       "5          7416        15826         0       194\n",
       "6         21524        24879       483         0\n",
       "7         22337        17915       389         0\n",
       "8          7642         9722       435         0\n",
       "9          3707        20036       452         0\n",
       "10        15492         2721       343         0\n",
       "11        12430        10638       444         0\n",
       "12        13595         1918       350         0\n",
       "13         4290         2721       307         0\n",
       "14        18684         5268       810         0\n",
       "15         8686         9546      1002         0\n",
       "16        23140        10989       476         0\n",
       "17         5263        14289       674         0\n",
       "18        19557        17564       691         0\n",
       "19        23281        29684       675         0\n",
       "20          374        22683       410         0\n",
       "21        18804         9082       351         0\n",
       "22         5444        25004       786         0\n",
       "23        20390        25745        59         0\n",
       "24         4310        21692       362         0\n",
       "25         8526         2495       550         0"
      ]
     },
     "execution_count": 7,
     "metadata": {},
     "output_type": "execute_result"
    }
   ],
   "source": [
    "df_instances"
   ]
  },
  {
   "cell_type": "markdown",
   "metadata": {},
   "source": [
    "mantengo segno delle istanze segnate come lineahul"
   ]
  },
  {
   "cell_type": "code",
   "execution_count": 8,
   "metadata": {},
   "outputs": [
    {
     "data": {
      "text/plain": [
       "[6, 7, 8, 9, 10, 11, 12, 13, 14, 15, 16, 17, 18, 19, 20, 21, 22, 23, 24, 25]"
      ]
     },
     "execution_count": 8,
     "metadata": {},
     "output_type": "execute_result"
    }
   ],
   "source": [
    "vec_l"
   ]
  },
  {
   "cell_type": "markdown",
   "metadata": {},
   "source": [
    "mantengo segno delle istanze segnate come backhaul"
   ]
  },
  {
   "cell_type": "code",
   "execution_count": 9,
   "metadata": {},
   "outputs": [
    {
     "data": {
      "text/plain": [
       "[0, 1, 2, 3, 4, 5]"
      ]
     },
     "execution_count": 9,
     "metadata": {},
     "output_type": "execute_result"
    }
   ],
   "source": [
    "vec_b"
   ]
  },
  {
   "cell_type": "markdown",
   "metadata": {},
   "source": [
    "## Calcolo dei Dati raccolti"
   ]
  },
  {
   "cell_type": "code",
   "execution_count": 10,
   "metadata": {},
   "outputs": [],
   "source": [
    "distance = distance_matrix(vect_cord)"
   ]
  },
  {
   "cell_type": "code",
   "execution_count": 11,
   "metadata": {},
   "outputs": [],
   "source": [
    "saving=saving_matrix(distance)"
   ]
  },
  {
   "cell_type": "code",
   "execution_count": 12,
   "metadata": {},
   "outputs": [],
   "source": [
    "dict_Saving_Order=savingOrder(saving)"
   ]
  },
  {
   "cell_type": "code",
   "execution_count": 13,
   "metadata": {},
   "outputs": [],
   "source": [
    "dict_b, dict_l , dict_merge= route_Linehaul_Backhaul(dict_Saving_Order, vec_b, vec_l)"
   ]
  },
  {
   "cell_type": "markdown",
   "metadata": {},
   "source": [
    "## Inizializzo la lista delle rotte"
   ]
  },
  {
   "cell_type": "code",
   "execution_count": 14,
   "metadata": {},
   "outputs": [],
   "source": [
    "list_route = []\n",
    "set_iniziale = {0}\n",
    "set_first = {0}\n",
    "set_visited = {0}\n",
    "lista_keys= list(dict_l.keys())\n",
    "for k in lista_keys:\n",
    "    if len(list_route) < number_of_vehicles and k[0] not in set_iniziale and k[1] not in set_iniziale:\n",
    "        list_route.append(Vehicle([0, k[0], k[1]], vect_domanda[k[0]]+vect_domanda[k[1]],\n",
    "                         distance[0][k[0]]+distance[k[0]][k[1]]))\n",
    "        set_iniziale.add(k[0])\n",
    "        set_iniziale.add(k[1])\n",
    "        set_first.add(k[0])\n",
    "        set_visited.add(k[0])\n",
    "        set_visited.add(k[1])"
   ]
  },
  {
   "cell_type": "code",
   "execution_count": 15,
   "metadata": {},
   "outputs": [],
   "source": [
    "remove_first_instance(dict_l, set_first)"
   ]
  },
  {
   "cell_type": "code",
   "execution_count": 16,
   "metadata": {},
   "outputs": [
    {
     "name": "stdout",
     "output_type": "stream",
     "text": [
      "[0, 10, 12]\n",
      "[0, 19, 23]\n",
      "[0, 13, 25]\n",
      "[0, 20, 22]\n",
      "[0, 14, 21]\n"
     ]
    }
   ],
   "source": [
    "for e in list_route:\n",
    "    print(e.route)"
   ]
  },
  {
   "cell_type": "code",
   "execution_count": 17,
   "metadata": {},
   "outputs": [
    {
     "name": "stdout",
     "output_type": "stream",
     "text": [
      "15790.429414561953\n",
      "22620.57122579125\n",
      "19597.021781400912\n",
      "18985.950104847245\n",
      "16459.133733441053\n"
     ]
    }
   ],
   "source": [
    "for e in list_route:\n",
    "    print(e.cost)"
   ]
  },
  {
   "cell_type": "code",
   "execution_count": 18,
   "metadata": {},
   "outputs": [],
   "source": [
    "c = 0\n",
    "while(len(dict_l)>0 and c < len(list_route)):\n",
    "    lista_keys = list(dict_l.keys())\n",
    "    for k in lista_keys:\n",
    "        if list_route[c].route[-1] in k \\\n",
    "        and list_route[c].weight + vect_domanda[different(list_route[c].route[-1],k)] <= capacity \\\n",
    "        and k[1] not in set_visited:\n",
    "            list_route[c].add_route(k)\n",
    "            list_route[c].add_weight(vect_domanda[different(list_route[c].route[-1],k)])\n",
    "            set_visited.add(list_route[c].route[-1])\n",
    "            list_route[c].add_cost(distance[k[0]][k[1]])\n",
    "    \n",
    "    list_route[c].delivery = list_route[c].weight\n",
    "    list_route[c].weight = 0\n",
    "    c += 1"
   ]
  },
  {
   "cell_type": "code",
   "execution_count": 19,
   "metadata": {},
   "outputs": [
    {
     "data": {
      "text/plain": [
       "{0, 10, 12, 13, 14, 16, 18, 19, 20, 21, 22, 23, 24, 25}"
      ]
     },
     "execution_count": 19,
     "metadata": {},
     "output_type": "execute_result"
    }
   ],
   "source": [
    "set_visited"
   ]
  },
  {
   "cell_type": "code",
   "execution_count": 20,
   "metadata": {},
   "outputs": [
    {
     "name": "stdout",
     "output_type": "stream",
     "text": [
      "[0, 10, 12, 16, 18, 24]\n",
      "[0, 19, 23]\n",
      "[0, 13, 25]\n",
      "[0, 20, 22]\n",
      "[0, 14, 21]\n"
     ]
    }
   ],
   "source": [
    "for e in list_route:\n",
    "    print(e.route)"
   ]
  },
  {
   "cell_type": "code",
   "execution_count": 21,
   "metadata": {},
   "outputs": [
    {
     "name": "stdout",
     "output_type": "stream",
     "text": [
      "2210\n",
      "734\n",
      "857\n",
      "1196\n",
      "1161\n"
     ]
    }
   ],
   "source": [
    "for e in list_route:\n",
    "    print(e.delivery)"
   ]
  },
  {
   "cell_type": "code",
   "execution_count": 22,
   "metadata": {},
   "outputs": [
    {
     "data": {
      "text/plain": [
       "{0, 10, 12, 13, 14, 16, 18, 19, 20, 21, 22, 23, 24, 25}"
      ]
     },
     "execution_count": 22,
     "metadata": {},
     "output_type": "execute_result"
    }
   ],
   "source": [
    "set_visited"
   ]
  }
 ],
 "metadata": {
  "kernelspec": {
   "display_name": "Python 3",
   "language": "python",
   "name": "python3"
  },
  "language_info": {
   "codemirror_mode": {
    "name": "ipython",
    "version": 3
   },
   "file_extension": ".py",
   "mimetype": "text/x-python",
   "name": "python",
   "nbconvert_exporter": "python",
   "pygments_lexer": "ipython3",
   "version": "3.6.8"
  }
 },
 "nbformat": 4,
 "nbformat_minor": 2
}
